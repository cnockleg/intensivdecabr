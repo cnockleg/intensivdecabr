{
 "cells": [
  {
   "cell_type": "markdown",
   "metadata": {},
   "source": [
    "Импорты"
   ]
  },
  {
   "cell_type": "code",
   "execution_count": 73,
   "metadata": {},
   "outputs": [],
   "source": [
    "import pandas as pd\n",
    "import missingno as msno\n",
    "import matplotlib.pyplot as plt\n",
    "import numpy as np\n",
    "\n",
    "from sklearn import metrics\n",
    "from sklearn.ensemble import RandomForestClassifier \n",
    "from sklearn.ensemble import ExtraTreesClassifier\n",
    "from sklearn.impute import KNNImputer\n",
    "from sklearn.model_selection import train_test_split\n",
    "from sklearn.metrics import accuracy_score, classification_report, roc_auc_score, roc_curve"
   ]
  },
  {
   "cell_type": "markdown",
   "metadata": {},
   "source": [
    "Открытие файлов"
   ]
  },
  {
   "cell_type": "code",
   "execution_count": 59,
   "metadata": {},
   "outputs": [],
   "source": [
    "df = pd.read_csv('train.csv', low_memory=False)\n",
    "df_valid = pd.read_csv('valid.csv', low_memory=False)\n",
    "\n",
    "pd.options.display.max_columns = None\n",
    "pd.options.display.max_rows = None"
   ]
  },
  {
   "cell_type": "markdown",
   "metadata": {},
   "source": [
    "Создание переменных"
   ]
  },
  {
   "cell_type": "code",
   "execution_count": 60,
   "metadata": {},
   "outputs": [],
   "source": [
    "# Переменные train\n",
    "df1 = df.copy(deep = True)  \n",
    "df_baseline = df.copy(deep = True)\n",
    "\n",
    "# Переменные valid\n",
    "df_valid1 = df_valid.copy(deep = True)\n",
    "df_valid_baseline = df_valid.copy(deep = True)"
   ]
  },
  {
   "cell_type": "markdown",
   "metadata": {},
   "source": [
    "Сырая очистка датасетов для baseline-модели"
   ]
  },
  {
   "cell_type": "code",
   "execution_count": null,
   "metadata": {},
   "outputs": [],
   "source": [
    "dellist = []\n",
    "miss = df_baseline.isna().mean()*100\n",
    "for col, percent in miss.items():\n",
    "    if percent > 45:\n",
    "        dellist.append(col)\n",
    "for col in df_baseline.loc[:, df_baseline.nunique() == 1].columns.tolist():\n",
    "    dellist.append(col)\n",
    "\n",
    "def baseclean(df: pd.DataFrame, dellist):\n",
    "    df = df.select_dtypes(include = np.number)\n",
    "    if 'client_id' in df.columns:\n",
    "        df = df.drop('client_id', axis=1)\n",
    "    for col in dellist:\n",
    "        if col in df.columns:\n",
    "            del df[col]\n",
    "    print(\"Размер датасета после удаления колонок: \", df.shape)\n",
    "    df = df.fillna(0)\n",
    "    return df\n",
    "\n",
    "df_train = baseclean(df_baseline, dellist)\n",
    "df_val_base = baseclean(df_valid_baseline, dellist)"
   ]
  },
  {
   "cell_type": "markdown",
   "metadata": {},
   "source": [
    "Создание и обучение baseline-модели"
   ]
  },
  {
   "cell_type": "code",
   "execution_count": null,
   "metadata": {},
   "outputs": [],
   "source": [
    "X_train_base = df_train.drop('target', axis=1)\n",
    "X_valid_base = df_val_base.drop('target', axis=1)\n",
    "\n",
    "y_train_base = df_train['target']\n",
    "y_valid_base = df_val_base['target']\n",
    "\n",
    "X_train_base, X_test_base, y_train_base, y_test_base = train_test_split(X_train_base, y_train_base, test_size=0.2, random_state=42)\n",
    "\n",
    "rfc = RandomForestClassifier(random_state=42)\n",
    "rfc.fit(X_train_base, y_train_base)\n",
    "\n",
    "y_proba_test_base = rfc.predict_proba(X_test_base)[:, 1]\n",
    "roc_auc_test_base = roc_auc_score(y_test_base, y_proba_test_base)\n",
    "print(roc_auc_test_base, \"- rocauc test\")\n",
    "\n",
    "y_proba_valid_base = rfc.predict_proba(X_valid_base)[:, 1]\n",
    "roc_auc_valid_base = roc_auc_score(y_valid_base, y_proba_valid_base)\n",
    "print(roc_auc_valid_base, \"- rocauc val\")"
   ]
  },
  {
   "cell_type": "markdown",
   "metadata": {},
   "source": [
    "Очистка train датасета"
   ]
  },
  {
   "cell_type": "code",
   "execution_count": null,
   "metadata": {},
   "outputs": [],
   "source": [
    "def clean_train(data): \n",
    "    data = data.loc[:, data.notna().sum() > data.shape[0] * 0.55] \n",
    "    print(\"Размер датасета после создания trashhold-а: \", data.shape) \n",
    "    data = data.loc[:, data.nunique() != 1]\n",
    "    print(\"Размер датасета после удаления одинаковых столбцов: \", data.shape) \n",
    "    data = data.replace([np.inf, -np.inf, np.nan], 101010) \n",
    "\n",
    "    def create_golden_record(group): \n",
    "        group = group.sort_values(by='report_date').iloc[-1] \n",
    "        for col in group.index: \n",
    "            if group[col] == 101010: \n",
    "                group[col] = group.drop(columns=[col]).dropna().iloc[0] if not group.drop(columns=[col]).dropna().empty else 101010 \n",
    "        return group\n",
    "    data = data.groupby('client_id').apply(create_golden_record).reset_index(drop=True) \n",
    "\n",
    "    for col in data.columns: \n",
    "        data[col] = pd.to_numeric(data[col], errors='coerce') \n",
    "    data = data.replace([np.inf, -np.inf, np.nan], 101010) \n",
    "\n",
    "    float_columns = data.select_dtypes(include=np.number).columns \n",
    "    for col in float_columns: \n",
    "        temp = data[col].fillna(0) \n",
    "        if temp.apply(lambda x: x == int(x)).all(): \n",
    "            data[col] = data[col].astype(int) \n",
    "\n",
    "    data = data[data.isnull().mean(axis=1) < 0.50] \n",
    "    data = data.replace(101010, np.nan) \n",
    "\n",
    "    for col in data.select_dtypes(include=[np.number]).columns : \n",
    "        if len(data[col].value_counts()) <= 3: \n",
    "            data[col] = data[col].bfill()\n",
    "        elif data[col].isna().mean() <= 0.1: \n",
    "            data[col] = data[col].fillna(data[col].median()) \n",
    "        else: \n",
    "            data[col] = KNNImputer(n_neighbors=5).fit_transform(data[[col]])[:, 0] \n",
    "    if data.isna().any().any(): \n",
    "        for col in data.columns: \n",
    "            if data[col].isna().any(): \n",
    "                data[col] = data[col].fillna(data[col].median()) \n",
    " \n",
    "    return data\n",
    "\n",
    "df_gold = clean_train(df1)\n",
    "print(\"Информация о датасете: \\n\")\n",
    "print(df_gold.shape, \"\\n\")\n",
    "print(df_gold.info())"
   ]
  },
  {
   "cell_type": "code",
   "execution_count": null,
   "metadata": {},
   "outputs": [],
   "source": [
    "df_gold.head(10)"
   ]
  },
  {
   "cell_type": "markdown",
   "metadata": {},
   "source": [
    "Очистка valid датасета"
   ]
  },
  {
   "cell_type": "code",
   "execution_count": null,
   "metadata": {},
   "outputs": [],
   "source": [
    "def find_and_remove_missing_columns(df_train, df_valid):\n",
    "    columns_in_train = set(df_train.columns)\n",
    "    columns_in_valid = set(df_valid.columns)\n",
    "    columns_to_remove = columns_in_valid - columns_in_train\n",
    "\n",
    "    df_valid_cleaned = df_valid.drop(columns=columns_to_remove, errors='ignore')\n",
    "    df_valid_cleaned = df_valid_cleaned.sort_values(by='report_date').groupby('client_id').last().reset_index()\n",
    "    print(\"Размер датасета после удаления лишних столбцов:\", df_valid_cleaned.shape)\n",
    "\n",
    "    msno.bar(df_valid_cleaned,color=(0.59,0.98,0.59), figsize=[15,25], fontsize=6)\n",
    "    plt.xticks(np.arange(0,1.0,0.05))\n",
    "    plt.grid(True,linestyle=\"-\",alpha=1)\n",
    "    plt.show\n",
    "\n",
    "    df_valid_cleaned = df_valid_cleaned.replace(101010, np.nan)\n",
    "    for col in df_valid_cleaned.columns:\n",
    "        if df_valid_cleaned[col].isna().any():\n",
    "            df_valid_cleaned[col] = df_valid_cleaned[col].fillna(df_valid_cleaned[col].dropna().iloc[0] if not df_valid_cleaned[col].dropna().empty else np.nan)\n",
    "    print(\"Соотношение типов после обработки:\", df_valid_cleaned.dtypes)\n",
    "\n",
    "    df_valid_cleaned = df_valid_cleaned[df_valid_cleaned.isnull().mean(axis=1) < 0.50]\n",
    "    print(\"Размер df_valid после удаления строк с >50% пропусков:\", df_valid_cleaned.shape[0:10])\n",
    "\n",
    "    return df_valid_cleaned.select_dtypes(include=np.number)\n",
    "\n",
    "df_valid_gold = find_and_remove_missing_columns(df_gold, df_valid1)"
   ]
  },
  {
   "cell_type": "markdown",
   "metadata": {},
   "source": [
    "Удаление последних лишних колонок"
   ]
  },
  {
   "cell_type": "code",
   "execution_count": null,
   "metadata": {},
   "outputs": [],
   "source": [
    "df_gold = df_gold.drop(['col1454', 'report_date'], axis=1)\n",
    "df_valid_gold.shape"
   ]
  },
  {
   "cell_type": "code",
   "execution_count": null,
   "metadata": {},
   "outputs": [],
   "source": [
    "df_valid_gold.head(10)"
   ]
  },
  {
   "cell_type": "markdown",
   "metadata": {},
   "source": [
    "Вывод графиков пропусков"
   ]
  },
  {
   "cell_type": "code",
   "execution_count": null,
   "metadata": {},
   "outputs": [],
   "source": [
    "msno.bar(df_gold,color=(0.59,0.98,0.59), figsize=[15,25], fontsize=6)\n",
    "plt.xticks(np.arange(0,1.0,0.05))\n",
    "plt.grid(True,linestyle=\"-\",alpha=1)\n",
    "plt.show"
   ]
  },
  {
   "cell_type": "code",
   "execution_count": null,
   "metadata": {},
   "outputs": [],
   "source": [
    "msno.bar(df_valid_gold,color=(0.59,0.98,0.59), figsize=[15,25], fontsize=6)\n",
    "plt.xticks(np.arange(0,1.0,0.05))\n",
    "plt.grid(True,linestyle=\"-\",alpha=1)\n",
    "plt.show"
   ]
  },
  {
   "cell_type": "code",
   "execution_count": null,
   "metadata": {},
   "outputs": [],
   "source": [
    "df_gold.info()\n",
    "df_valid_gold.info()"
   ]
  },
  {
   "cell_type": "markdown",
   "metadata": {},
   "source": [
    "Обучение модели"
   ]
  },
  {
   "cell_type": "code",
   "execution_count": null,
   "metadata": {},
   "outputs": [],
   "source": [
    "X_train = (df_gold.select_dtypes(include=np.number)).drop(['client_id', 'target'], axis=1)\n",
    "y_train = df_gold['target']\n",
    "\n",
    "X_valid = (df_valid_gold.select_dtypes(include=np.number)).drop(['client_id', 'target'], axis=1)\n",
    "y_valid = df_valid_gold['target']\n",
    "\n",
    "X_train, X_test, y_train, y_test = train_test_split(X_train, y_train, test_size=0.2, random_state=42)\n",
    "\n",
    "rnd_frs = RandomForestClassifier(random_state=384)\n",
    "rnd_frs.fit(X_train, y_train)\n",
    "\n",
    "y_predict = rnd_frs.predict(X_valid)\n",
    "print(classification_report(y_valid, y_predict))\n",
    "\n",
    "y_proba_test = rnd_frs.predict_proba(X_test)[:, 1]\n",
    "roc_auc_test = roc_auc_score(y_test, y_proba_test)\n",
    "print(roc_auc_test, \"rocauc test\")\n",
    "\n",
    "y_proba_valid = rfc.predict_proba(X_valid)[:, 1]\n",
    "roc_auc_valid = roc_auc_score(y_valid, y_proba_valid)\n",
    "print(roc_auc_valid, \"rocauc val\")"
   ]
  },
  {
   "cell_type": "markdown",
   "metadata": {},
   "source": [
    "Построение ROC кривой"
   ]
  },
  {
   "cell_type": "code",
   "execution_count": null,
   "metadata": {},
   "outputs": [],
   "source": [
    "fpr, tpr, _ = roc_curve(y_valid,  y_proba_valid)\n",
    "\n",
    "plt.plot(fpr, tpr)\n",
    "plt.ylabel('True Positive Rate')\n",
    "plt.xlabel('False Positive Rate')\n",
    "plt.show()"
   ]
  }
 ],
 "metadata": {
  "kernelspec": {
   "display_name": "Python 3",
   "language": "python",
   "name": "python3"
  },
  "language_info": {
   "codemirror_mode": {
    "name": "ipython",
    "version": 3
   },
   "file_extension": ".py",
   "mimetype": "text/x-python",
   "name": "python",
   "nbconvert_exporter": "python",
   "pygments_lexer": "ipython3",
   "version": "3.11.9"
  }
 },
 "nbformat": 4,
 "nbformat_minor": 2
}
